{
 "cells": [
  {
   "cell_type": "markdown",
   "id": "1c65bbbb",
   "metadata": {},
   "source": [
    "# 1. To what does a relative path refer?\n",
    "\n",
    "ANSWER- A relative path refers to a location that is relative to a current directory."
   ]
  },
  {
   "cell_type": "markdown",
   "id": "4a8dffe3",
   "metadata": {},
   "source": [
    "# 2. What does an absolute path start with your operating system?\n",
    "\n",
    "ANSWER- An absolute path is the path that contains the entire path to the file or directory that you need to access.This path will begin at the home directory of your computer.In window it will start with C: ."
   ]
  },
  {
   "cell_type": "markdown",
   "id": "46a66979",
   "metadata": {},
   "source": [
    "# 3. What do the functions os.getcwd() and os.chdir() do?\n",
    "\n",
    "ANSWER- The functions os.getcwd() allows you to see what your current working directory is.\n",
    "        The function os.chdir() allows you to set the current working directory to a path of your choice."
   ]
  },
  {
   "cell_type": "markdown",
   "id": "719e461a",
   "metadata": {},
   "source": [
    "# 4. What are the . and .. folders?\n",
    "\n",
    "ANSWER- . single dot represents the current directory and .. double dot represents the parent directory of the current directory.\n",
    " for example: given below is my absolute path\n",
    " \n",
    "absolute path is: C:\\Users\\hp\\Downloads\\Scraper-20220803T095838Z-001\\Scraper-20220803T095838Z-001\\Scraper\\ReviewFlask\n",
    " Then . represents: C:\\Users\\hp\\Downloads\\Scraper-20220803T095838Z-001\\Scraper-20220803T095838Z-001\\Scraper\\ReviewFlask\n",
    " and .. represents: C:\\Users\\hp\\Downloads\\Scraper-20220803T095838Z-001\\Scraper-20220803T095838Z-001\\Scraper"
   ]
  },
  {
   "cell_type": "markdown",
   "id": "ca755a3d",
   "metadata": {},
   "source": [
    "# 5. In C:\\bacon\\eggs\\spam.txt, which part is the dir name, and which part is the base name?\n",
    "\n",
    "ANSWER- The dir name is C:\\bacon\\eggs\n",
    "        The base name is spam.txt"
   ]
  },
  {
   "cell_type": "markdown",
   "id": "2c5fa6d7",
   "metadata": {},
   "source": [
    "# 6. What are the three “mode” arguments that can be passed to the open() function?\n",
    "\n",
    "ANSWER- open(filename,mode)\n",
    "        > 'r'-Read mode this is a default mode for open().It only reads the file data.\n",
    "        > 'w'-Write mode this is used to overwrite any existing content in a file.\n",
    "        > 'r+'-Read/Write mode this is used to do both operation on your command.\n",
    "        > 'a'-Append mode in this mode you can append the data of file without overwriting.\n",
    "        "
   ]
  },
  {
   "cell_type": "markdown",
   "id": "fe45736e",
   "metadata": {},
   "source": [
    "# 7. What happens if an existing file is opened in write mode?\n",
    "\n",
    "ANSWER- Using this mode we will overwrite any existing data in a file."
   ]
  },
  {
   "cell_type": "markdown",
   "id": "84307451",
   "metadata": {},
   "source": [
    "# 8. How do you tell the difference between read() and readlines()?\n",
    "\n",
    "ANSWER- The main difference is that  read() will read the whole file at once and then print out the first characters that take up as many bytes as you specify in the parenthesis, wheareas the readline() that will read  and print only first characters that take up as many bytes as you specify in the parenthesis.\n",
    "    read() would treat each character in the file separately .\n",
    "    readline() function only reads a single line of the file."
   ]
  },
  {
   "cell_type": "markdown",
   "id": "85d798b7",
   "metadata": {},
   "source": [
    "# 9. What data structure does a shelf value resemble?\n",
    "\n",
    "ANSWER- It contains keys and values."
   ]
  },
  {
   "cell_type": "markdown",
   "id": "9e58c73f",
   "metadata": {},
   "source": [
    "##########################################################"
   ]
  }
 ],
 "metadata": {
  "kernelspec": {
   "display_name": "Python 3 (ipykernel)",
   "language": "python",
   "name": "python3"
  },
  "language_info": {
   "codemirror_mode": {
    "name": "ipython",
    "version": 3
   },
   "file_extension": ".py",
   "mimetype": "text/x-python",
   "name": "python",
   "nbconvert_exporter": "python",
   "pygments_lexer": "ipython3",
   "version": "3.9.12"
  }
 },
 "nbformat": 4,
 "nbformat_minor": 5
}
